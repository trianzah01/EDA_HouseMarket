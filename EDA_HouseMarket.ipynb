{
 "cells": [
  {
   "cell_type": "code",
   "execution_count": 1,
   "metadata": {},
   "outputs": [],
   "source": [
    "import pandas as pd\n",
    "import numpy as np\n",
    "from scipy import stats\n",
    "from scipy.stats import norm\n",
    "\n",
    "import seaborn as sns\n",
    "import matplotlib.pyplot as plt"
   ]
  },
  {
   "cell_type": "code",
   "execution_count": 2,
   "metadata": {},
   "outputs": [
    {
     "data": {
      "text/html": [
       "<div>\n",
       "<style scoped>\n",
       "    .dataframe tbody tr th:only-of-type {\n",
       "        vertical-align: middle;\n",
       "    }\n",
       "\n",
       "    .dataframe tbody tr th {\n",
       "        vertical-align: top;\n",
       "    }\n",
       "\n",
       "    .dataframe thead th {\n",
       "        text-align: right;\n",
       "    }\n",
       "</style>\n",
       "<table border=\"1\" class=\"dataframe\">\n",
       "  <thead>\n",
       "    <tr style=\"text-align: right;\">\n",
       "      <th></th>\n",
       "      <th>Suburb</th>\n",
       "      <th>Address</th>\n",
       "      <th>Rooms</th>\n",
       "      <th>Type</th>\n",
       "      <th>Price</th>\n",
       "      <th>Method</th>\n",
       "      <th>SellerG</th>\n",
       "      <th>Date</th>\n",
       "      <th>Distance</th>\n",
       "      <th>Postcode</th>\n",
       "      <th>...</th>\n",
       "      <th>Bathroom</th>\n",
       "      <th>Car</th>\n",
       "      <th>Landsize</th>\n",
       "      <th>BuildingArea</th>\n",
       "      <th>YearBuilt</th>\n",
       "      <th>CouncilArea</th>\n",
       "      <th>Lattitude</th>\n",
       "      <th>Longtitude</th>\n",
       "      <th>Regionname</th>\n",
       "      <th>Propertycount</th>\n",
       "    </tr>\n",
       "  </thead>\n",
       "  <tbody>\n",
       "    <tr>\n",
       "      <th>0</th>\n",
       "      <td>Abbotsford</td>\n",
       "      <td>85 Turner St</td>\n",
       "      <td>2</td>\n",
       "      <td>h</td>\n",
       "      <td>1480000.0</td>\n",
       "      <td>S</td>\n",
       "      <td>Biggin</td>\n",
       "      <td>3/12/2016</td>\n",
       "      <td>2.5</td>\n",
       "      <td>3067.0</td>\n",
       "      <td>...</td>\n",
       "      <td>1.0</td>\n",
       "      <td>1.0</td>\n",
       "      <td>202.0</td>\n",
       "      <td>NaN</td>\n",
       "      <td>NaN</td>\n",
       "      <td>Yarra</td>\n",
       "      <td>-37.7996</td>\n",
       "      <td>144.9984</td>\n",
       "      <td>Northern Metropolitan</td>\n",
       "      <td>4019.0</td>\n",
       "    </tr>\n",
       "    <tr>\n",
       "      <th>1</th>\n",
       "      <td>Abbotsford</td>\n",
       "      <td>25 Bloomburg St</td>\n",
       "      <td>2</td>\n",
       "      <td>h</td>\n",
       "      <td>1035000.0</td>\n",
       "      <td>S</td>\n",
       "      <td>Biggin</td>\n",
       "      <td>4/02/2016</td>\n",
       "      <td>2.5</td>\n",
       "      <td>3067.0</td>\n",
       "      <td>...</td>\n",
       "      <td>1.0</td>\n",
       "      <td>0.0</td>\n",
       "      <td>156.0</td>\n",
       "      <td>79.0</td>\n",
       "      <td>1900.0</td>\n",
       "      <td>Yarra</td>\n",
       "      <td>-37.8079</td>\n",
       "      <td>144.9934</td>\n",
       "      <td>Northern Metropolitan</td>\n",
       "      <td>4019.0</td>\n",
       "    </tr>\n",
       "    <tr>\n",
       "      <th>2</th>\n",
       "      <td>Abbotsford</td>\n",
       "      <td>5 Charles St</td>\n",
       "      <td>3</td>\n",
       "      <td>h</td>\n",
       "      <td>1465000.0</td>\n",
       "      <td>SP</td>\n",
       "      <td>Biggin</td>\n",
       "      <td>4/03/2017</td>\n",
       "      <td>2.5</td>\n",
       "      <td>3067.0</td>\n",
       "      <td>...</td>\n",
       "      <td>2.0</td>\n",
       "      <td>0.0</td>\n",
       "      <td>134.0</td>\n",
       "      <td>150.0</td>\n",
       "      <td>1900.0</td>\n",
       "      <td>Yarra</td>\n",
       "      <td>-37.8093</td>\n",
       "      <td>144.9944</td>\n",
       "      <td>Northern Metropolitan</td>\n",
       "      <td>4019.0</td>\n",
       "    </tr>\n",
       "  </tbody>\n",
       "</table>\n",
       "<p>3 rows × 21 columns</p>\n",
       "</div>"
      ],
      "text/plain": [
       "       Suburb          Address  Rooms Type      Price Method SellerG  \\\n",
       "0  Abbotsford     85 Turner St      2    h  1480000.0      S  Biggin   \n",
       "1  Abbotsford  25 Bloomburg St      2    h  1035000.0      S  Biggin   \n",
       "2  Abbotsford     5 Charles St      3    h  1465000.0     SP  Biggin   \n",
       "\n",
       "        Date  Distance  Postcode  ...  Bathroom  Car  Landsize  BuildingArea  \\\n",
       "0  3/12/2016       2.5    3067.0  ...       1.0  1.0     202.0           NaN   \n",
       "1  4/02/2016       2.5    3067.0  ...       1.0  0.0     156.0          79.0   \n",
       "2  4/03/2017       2.5    3067.0  ...       2.0  0.0     134.0         150.0   \n",
       "\n",
       "   YearBuilt  CouncilArea Lattitude  Longtitude             Regionname  \\\n",
       "0        NaN        Yarra  -37.7996    144.9984  Northern Metropolitan   \n",
       "1     1900.0        Yarra  -37.8079    144.9934  Northern Metropolitan   \n",
       "2     1900.0        Yarra  -37.8093    144.9944  Northern Metropolitan   \n",
       "\n",
       "  Propertycount  \n",
       "0        4019.0  \n",
       "1        4019.0  \n",
       "2        4019.0  \n",
       "\n",
       "[3 rows x 21 columns]"
      ]
     },
     "execution_count": 2,
     "metadata": {},
     "output_type": "execute_result"
    }
   ],
   "source": [
    "df = pd.read_csv('melb_data.csv')\n",
    "df.head(3)"
   ]
  },
  {
   "cell_type": "markdown",
   "metadata": {},
   "source": [
    "### Melihat tipe data darisetiap kolom, agar memastikan tipe datanya sudah sesuai untuk kita olah selanjutnya"
   ]
  },
  {
   "cell_type": "code",
   "execution_count": 3,
   "metadata": {},
   "outputs": [
    {
     "data": {
      "text/plain": [
       "Suburb            object\n",
       "Address           object\n",
       "Rooms              int64\n",
       "Type              object\n",
       "Price            float64\n",
       "Method            object\n",
       "SellerG           object\n",
       "Date              object\n",
       "Distance         float64\n",
       "Postcode         float64\n",
       "Bedroom2         float64\n",
       "Bathroom         float64\n",
       "Car              float64\n",
       "Landsize         float64\n",
       "BuildingArea     float64\n",
       "YearBuilt        float64\n",
       "CouncilArea       object\n",
       "Lattitude        float64\n",
       "Longtitude       float64\n",
       "Regionname        object\n",
       "Propertycount    float64\n",
       "dtype: object"
      ]
     },
     "execution_count": 3,
     "metadata": {},
     "output_type": "execute_result"
    }
   ],
   "source": [
    "df.dtypes "
   ]
  },
  {
   "cell_type": "markdown",
   "metadata": {},
   "source": [
    "## 1. Hitung Titik Pusat Data (Central Tendency), Persebaran data (Dispersion), Distribusi Data (Distribution) \n",
    " - Pada kolom ``Landsize``, ``Distance``, dan ``Price``"
   ]
  },
  {
   "cell_type": "markdown",
   "metadata": {},
   "source": [
    "### Kolom ``Landsize``"
   ]
  },
  {
   "cell_type": "code",
   "execution_count": 115,
   "metadata": {},
   "outputs": [
    {
     "name": "stdout",
     "output_type": "stream",
     "text": [
      "Mean pada kolom Landsize = 558.4161266568483\n",
      "Median pada kolom Landsize = 440.0\n",
      "Modus pada kolom Landsize = 0    0.0\n",
      "dtype: float64\n",
      "\n",
      "Rata-rata landsize perumahan di Melbourne sekitar 550 meter persegi, dengan nilai tengah yaitu 440, \n",
      "banyak data landsize yang tidak diketahui, bisa dilihat dari nilai modusnya yaitu 0\n"
     ]
    }
   ],
   "source": [
    "# Titik Pusat Data (Central Tendency)\n",
    "print('Mean pada kolom Landsize =', df['Landsize'].mean())\n",
    "print('Median pada kolom Landsize =', df['Landsize'].median())\n",
    "print('Modus pada kolom Landsize =', df['Landsize'].mode())\n",
    "\n",
    "print('\\nRata-rata landsize perumahan di Melbourne sekitar 550 meter persegi, dengan nilai tengah yaitu 440, \\nbanyak data landsize yang tidak diketahui, bisa dilihat dari nilai modusnya yaitu 0')"
   ]
  },
  {
   "cell_type": "code",
   "execution_count": 5,
   "metadata": {},
   "outputs": [
    {
     "name": "stdout",
     "output_type": "stream",
     "text": [
      "Nilai Standar Deviasi Kolom Landsize = 3990.6692411090316\n"
     ]
    }
   ],
   "source": [
    "# Persebaran Data (Dispersion)\n",
    "print('Nilai Standar Deviasi Kolom Landsize =', df['Landsize'].std())\n",
    "print('\\n Nilai simpangan baku pada kolom landsize sangat tinggi, artinya data landsize perumahan di melbourne sangat beragam sekali)"
   ]
  },
  {
   "cell_type": "code",
   "execution_count": 124,
   "metadata": {},
   "outputs": [
    {
     "name": "stdout",
     "output_type": "stream",
     "text": [
      "normal skewtest teststat = 212.046 pvalue = 0.0000\n",
      "normal kurtosistest teststat = 90.581 pvalue = 0.0000\n",
      "\n",
      " Nilai skewtest pada landsize sangat tinggi, positif skew, artinya lebih banyak jumlah data yang bernilai kecil daripada data bernilai besar.Kurvanya juga mengerucut tinggi jika dilihat dari nilai kurtosisnya\n"
     ]
    }
   ],
   "source": [
    "# Distribusi Data (Distribution)\n",
    "print(f'normal skewtest teststat = %6.3f pvalue = %6.4f' % stats.skewtest(df['Landsize']))\n",
    "print('normal kurtosistest teststat = %6.3f pvalue = %6.4f' % stats.kurtosistest(df['Landsize']))\n",
    "\n",
    "print('\\n Nilai skewtest pada landsize sangat tinggi, positif skew, artinya lebih banyak jumlah data yang bernilai kecil daripada data bernilai besar.Kurvanya juga mengerucut tinggi jika dilihat dari nilai kurtosisnya')"
   ]
  },
  {
   "cell_type": "markdown",
   "metadata": {},
   "source": [
    "### Kolom ``Distance``"
   ]
  },
  {
   "cell_type": "code",
   "execution_count": 120,
   "metadata": {},
   "outputs": [
    {
     "name": "stdout",
     "output_type": "stream",
     "text": [
      "Mean pada kolom Distance = 10.13777614138439\n",
      "Median pada kolom Distance = 9.2\n",
      "Modus pada kolom Distance = 0    11.2\n",
      "dtype: float64\n",
      "\n",
      "Rata-rata distace perumahan dengan CBD(Central Business District) di Melbourne sekitar 10, dengan nilai tengah yaitu 9.\n",
      "Perumahan di melbourne sangat denkat dengan CBD.\n"
     ]
    }
   ],
   "source": [
    "# Titik Pusat Data (Central Tendency)\n",
    "print('Mean pada kolom Distance =', df['Distance'].mean())\n",
    "print('Median pada kolom Distance =', df['Distance'].median())\n",
    "print('Modus pada kolom Distance =', df['Distance'].mode())\n",
    "\n",
    "print('\\nRata-rata distace perumahan dengan CBD(Central Business District) di Melbourne sekitar 10, dengan nilai tengah yaitu 9.\\nPerumahan di melbourne sangat denkat dengan CBD.')"
   ]
  },
  {
   "cell_type": "code",
   "execution_count": 122,
   "metadata": {},
   "outputs": [
    {
     "name": "stdout",
     "output_type": "stream",
     "text": [
      "Nilai Standar Deviasi Kolom Distance = 5.868724943071711\n",
      "\n",
      " Nilai simpangan baku pada kolom distance tidak terlalu tinggi, keragaman datanya tidak terlalu luas\n"
     ]
    }
   ],
   "source": [
    "# Persebaran Data (Dispersion)\n",
    "print('Nilai Standar Deviasi Kolom Distance =', df['Distance'].std())\n",
    "print('\\n Nilai simpangan baku pada kolom distance tidak terlalu tinggi, keragaman datanya tidak terlalu luas')"
   ]
  },
  {
   "cell_type": "code",
   "execution_count": 125,
   "metadata": {},
   "outputs": [
    {
     "name": "stdout",
     "output_type": "stream",
     "text": [
      "normal skewtest teststat = 57.048 pvalue = 0.0000\n",
      "normal kurtosistest teststat = 39.400 pvalue = 0.0000\n",
      "\n",
      " Nilai skewtest pada kolom Distance termasuk tinggi, positif skew. Kurvanya juga mengerucut tinggi jika dilihat dari nilai kurtosisnya\n"
     ]
    }
   ],
   "source": [
    "# Distribusi Data (Distribution)\n",
    "\n",
    "print(f'normal skewtest teststat = %6.3f pvalue = %6.4f' % stats.skewtest(df['Distance']))\n",
    "print('normal kurtosistest teststat = %6.3f pvalue = %6.4f' % stats.kurtosistest(df['Distance']))\n",
    "print('\\n Nilai skewtest pada kolom Distance termasuk tinggi, positif skew. Kurvanya juga mengerucut tinggi jika dilihat dari nilai kurtosisnya')"
   ]
  },
  {
   "cell_type": "markdown",
   "metadata": {},
   "source": [
    "### Kolom ``Price``"
   ]
  },
  {
   "cell_type": "code",
   "execution_count": 126,
   "metadata": {},
   "outputs": [
    {
     "name": "stdout",
     "output_type": "stream",
     "text": [
      "Mean pada kolom Price = 1075684.079455081\n",
      "Median pada kolom Price = 903000.0\n",
      "Modus pada kolom Price = 0    1100000.0\n",
      "dtype: float64\n",
      "\n",
      "Rata-rata harga perumahan di melbourne dapat dikategorikan mahal, nilai tengah dari data tersebut yaitu sekitar 900.000\n"
     ]
    }
   ],
   "source": [
    "# Titik Pusat Data (Central Tendency)\n",
    "print('Mean pada kolom Price =', df['Price'].mean())\n",
    "print('Median pada kolom Price =', df['Price'].median())\n",
    "print('Modus pada kolom Price =', df['Price'].mode())\n",
    "\n",
    "print('\\nRata-rata harga perumahan di melbourne dapat dikategorikan mahal, nilai tengah dari data tersebut yaitu sekitar 900.000')"
   ]
  },
  {
   "cell_type": "code",
   "execution_count": 127,
   "metadata": {},
   "outputs": [
    {
     "name": "stdout",
     "output_type": "stream",
     "text": [
      "Nilai Standar Deviasi Kolom Price = 639310.724296018\n",
      "Harga perumahan di melbourne sangat beragam, dapat dilihat dari nilai simpangan bakunya\n"
     ]
    }
   ],
   "source": [
    "# Persebaran Data (Dispersion)\n",
    "print('Nilai Standar Deviasi Kolom Price =', df['Price'].std())\n",
    "print('Harga perumahan di melbourne sangat beragam, dapat dilihat dari nilai simpangan bakunya')"
   ]
  },
  {
   "cell_type": "code",
   "execution_count": 128,
   "metadata": {},
   "outputs": [
    {
     "name": "stdout",
     "output_type": "stream",
     "text": [
      "normal skewtest teststat = 67.410 pvalue = 0.0000\n",
      "normal kurtosistest teststat = 48.479 pvalue = 0.0000\n",
      "\n",
      " Nilai skewtest pada kolom price termasuk tinggi, positif skew. Kurvanya juga mengerucut tinggi jika dilihat dari nilai kurtosisnya\n"
     ]
    }
   ],
   "source": [
    "# Distribusi Data (Distribution)\n",
    "\n",
    "print(f'normal skewtest teststat = %6.3f pvalue = %6.4f' % stats.skewtest(df['Price']))\n",
    "print('normal kurtosistest teststat = %6.3f pvalue = %6.4f' % stats.kurtosistest(df['Price']))\n",
    "print('\\n Nilai skewtest pada kolom price termasuk tinggi, positif skew. Kurvanya juga mengerucut tinggi jika dilihat dari nilai kurtosisnya')"
   ]
  },
  {
   "cell_type": "markdown",
   "metadata": {},
   "source": [
    "## 2. Carilah data outlier dan beri penjelasan (insight) pada feature/column Landsize & Distance ! Tambahkan plot untuk menampilkan adanya data outlier!"
   ]
  },
  {
   "cell_type": "code",
   "execution_count": 13,
   "metadata": {},
   "outputs": [],
   "source": [
    "# membuat function untuk mencari data outlier\n",
    "def find_outlier(yourList):\n",
    "    q1 = yourList.describe()['25%']\n",
    "    q2 = yourList.describe()['50%']\n",
    "    q3 = yourList.describe()['75%']\n",
    "    iqr = q3 - q1\n",
    "    batas_bawah = q1 - 1.5 * iqr\n",
    "    batas_atas = q3 + 1.5 * iqr\n",
    "    outlier = []\n",
    "    for i in yourList:\n",
    "        if i < batas_bawah or i > batas_atas:\n",
    "            outlier.append(i)\n",
    "    return outlier"
   ]
  },
  {
   "cell_type": "markdown",
   "metadata": {},
   "source": [
    "### Kolom ``Landsize``"
   ]
  },
  {
   "cell_type": "code",
   "execution_count": 130,
   "metadata": {},
   "outputs": [
    {
     "name": "stdout",
     "output_type": "stream",
     "text": [
      "Jumlah data Outlier pada kolom Landsize 368\n",
      "\n",
      "List data outlier pada kolom landsize:\n",
      " [4290.0, 1581.0, 2113.0, 1491.0, 2471.0, 1957.0, 1472.0, 1801.0, 2051.0, 1468.0, 1437.0, 1611.0, 1364.0, 75100.0, 4931.0, 1572.0, 1561.0, 4668.0, 4676.0, 2120.0, 1393.0, 2886.0, 15900.0, 2773.0, 3701.0, 1777.0, 1484.0, 1764.0, 1966.0, 2381.0, 2925.0, 1622.0, 1547.0, 10100.0, 1658.0, 2782.0, 4332.0, 2778.0, 4296.0, 4296.0, 4296.0, 2077.0, 2794.0, 8680.0, 1783.0, 1485.0, 3056.0, 1996.0, 1402.0, 1504.0, 3414.0, 1585.0, 1997.0, 3132.0, 1568.0, 3194.0, 3977.0, 4267.0, 4440.0, 3448.0, 3957.0, 2136.0, 1972.0, 15100.0, 5661.0, 3967.0, 1396.0, 37000.0, 4977.0, 3014.0, 3014.0, 4230.0, 1414.0, 4051.0, 1751.0, 1388.0, 2026.0, 2187.0, 1981.0, 1660.0, 2522.0, 1588.0, 2300.0, 1882.0, 1390.0, 2469.0, 2427.0, 2488.0, 2431.0, 2401.0, 2193.0, 21700.0, 2166.0, 2166.0, 2166.0, 6866.0, 5042.0, 1768.0, 1958.0, 8216.0, 3037.0, 1485.0, 4679.0, 41400.0, 8223.0, 1725.0, 2571.0, 2740.0, 7455.0, 8223.0, 3516.0, 1850.0, 1613.0, 2325.0, 2143.0, 14500.0, 17200.0, 1369.0, 1424.0, 2122.0, 6111.0, 17200.0, 1826.0, 2121.0, 3878.0, 2295.0, 3878.0, 2955.0, 5530.0, 6186.0, 1669.0, 2335.0, 2879.0, 7170.0, 1676.0, 1676.0, 7458.0, 1409.0, 1458.0, 1659.0, 1781.0, 7330.0, 1677.0, 2927.0, 1452.0, 1555.0, 3455.0, 2274.0, 2276.0, 3084.0, 1547.0, 4497.0, 4497.0, 2064.0, 1473.0, 5289.0, 5289.0, 2347.0, 1784.0, 1803.0, 1647.0, 1403.0, 1556.0, 1611.0, 3886.0, 2079.0, 3747.0, 15900.0, 1783.0, 2696.0, 2679.0, 6494.0, 2306.0, 1536.0, 1465.0, 2787.0, 2787.0, 4721.0, 2410.0, 2166.0, 7159.0, 21715.0, 2842.0, 8220.0, 2044.0, 3512.0, 7455.0, 3512.0, 5467.0, 17200.0, 3197.0, 2422.0, 2920.0, 2701.0, 4076.0, 1851.0, 1912.0, 6261.0, 2122.0, 2581.0, 2592.0, 2135.0, 2592.0, 1816.0, 1678.0, 4657.0, 2023.0, 1993.0, 8140.0, 5022.0, 9838.0, 1469.0, 2338.0, 1540.0, 3826.0, 4563.0, 2735.0, 3701.0, 1764.0, 4096.0, 1750.0, 1396.0, 2267.0, 4606.0, 37000.0, 2431.0, 6830.0, 1472.0, 1646.0, 3093.0, 2076.0, 1670.0, 2978.0, 2379.0, 4413.0, 1856.0, 1590.0, 1583.0, 1690.0, 6996.0, 2135.0, 3160.0, 2429.0, 2431.0, 2226.0, 8888.0, 3878.0, 1501.0, 2685.0, 3481.0, 1489.0, 1523.0, 1424.0, 4780.0, 2592.0, 2385.0, 1382.0, 4221.0, 1459.0, 38490.0, 1890.0, 2207.0, 1961.0, 1717.0, 2256.0, 4077.0, 1659.0, 4977.0, 2431.0, 14196.0, 76000.0, 3634.0, 1529.0, 1521.0, 2040.0, 1869.0, 6367.0, 4421.0, 2015.0, 1801.0, 2033.0, 4267.0, 2135.0, 2166.0, 2427.0, 17200.0, 3093.0, 4000.0, 1474.0, 3256.0, 433014.0, 6367.0, 1730.0, 6712.0, 2020.0, 1618.0, 2029.0, 1555.0, 4001.0, 2905.0, 1727.0, 2033.0, 1388.0, 2048.0, 40468.0, 5259.0, 1469.0, 1723.0, 7455.0, 16000.0, 1715.0, 1533.0, 1405.0, 1909.0, 2338.0, 2026.0, 3512.0, 2044.0, 3316.0, 2863.0, 1625.0, 1978.0, 1800.0, 1783.0, 1503.0, 1775.0, 3957.0, 1843.0, 4422.0, 1453.0, 17200.0, 3901.0, 1501.0, 2283.0, 1965.0, 2405.0, 1471.0, 2679.0, 12300.0, 4604.0, 3215.0, 4025.0, 2189.0, 20200.0, 2243.0, 1457.0, 14294.0, 1889.0, 9338.0, 1880.0, 1730.0, 2002.0, 4168.0, 2048.0, 2716.0, 2835.0, 44500.0, 1606.0, 4425.0, 9405.0, 6000.0, 2000.0, 2405.0, 5750.0, 2027.0, 1670.0, 1611.0, 1475.0]\n",
      "\n",
      "Jumlah outlier pada kolom landsize sebesar 368, outlier tersebut merupakan perumahan2 yang memiliki landsize yang sangat besar\n"
     ]
    }
   ],
   "source": [
    "print('Jumlah data Outlier pada kolom Landsize', len(find_outlier(df['Landsize'])))\n",
    "print('\\nList data outlier pada kolom landsize:\\n', find_outlier(df['Landsize']))\n",
    "\n",
    "print('\\nJumlah outlier pada kolom landsize sebesar 368, outlier tersebut merupakan perumahan2 yang memiliki landsize yang sangat besar')"
   ]
  },
  {
   "cell_type": "code",
   "execution_count": 147,
   "metadata": {},
   "outputs": [
    {
     "data": {
      "image/png": "[encoded data removed]",
      "text/plain": [
       "<Figure size 720x360 with 1 Axes>"
      ]
     },
     "metadata": {
      "needs_background": "light"
     },
     "output_type": "display_data"
    },
    {
     "name": "stdout",
     "output_type": "stream",
     "text": [
      "Jika dilihat dari boxplot, data landsize perumahan di melbourne lebih banyak yang memiliki nilai yang kecil daripada landsize yang sangat besar\n"
     ]
    },
    {
     "data": {
      "text/plain": [
       "<Figure size 432x288 with 0 Axes>"
      ]
     },
     "metadata": {},
     "output_type": "display_data"
    }
   ],
   "source": [
    "plt.figure(figsize = (10,5))\n",
    "plt.boxplot(df['Landsize'], 0, 'gD', 0)\n",
    "plt.show()\n",
    "\n",
    "plt.savefig('landsize_boxplot.png')\n",
    "print('Jika dilihat dari boxplot, data landsize perumahan di melbourne lebih banyak yang memiliki nilai yang kecil daripada landsize yang sangat besar')"
   ]
  },
  {
   "cell_type": "markdown",
   "metadata": {},
   "source": [
    "### Kolom ``Distance``"
   ]
  },
  {
   "cell_type": "code",
   "execution_count": 132,
   "metadata": {},
   "outputs": [
    {
     "name": "stdout",
     "output_type": "stream",
     "text": [
      "Jumlah data Outlier pada kolom Distance 411\n",
      "\n",
      "List data outlier pada kolom Distance:\n",
      " [35.2, 25.0, 34.7, 24.7, 24.7, 24.7, 25.9, 38.0, 36.9, 38.0, 45.9, 32.3, 45.2, 25.2, 25.2, 31.7, 31.7, 25.9, 25.9, 34.1, 34.1, 23.8, 23.5, 35.4, 34.7, 31.7, 31.7, 31.7, 27.0, 25.5, 25.5, 27.2, 27.0, 25.0, 25.0, 25.0, 25.0, 31.2, 31.2, 31.2, 31.2, 27.0, 27.0, 24.7, 24.7, 24.7, 28.8, 24.8, 24.8, 38.0, 36.9, 32.3, 25.2, 31.7, 29.8, 31.7, 26.5, 26.5, 23.5, 35.4, 31.7, 31.7, 35.2, 34.9, 34.9, 24.7, 24.7, 24.8, 45.9, 32.3, 41.0, 31.7, 29.8, 25.9, 25.9, 26.5, 26.5, 23.5, 23.5, 35.4, 34.7, 31.7, 39.8, 35.2, 31.2, 27.0, 24.7, 38.0, 38.0, 38.0, 38.0, 25.2, 31.7, 29.8, 29.8, 31.6, 34.1, 47.3, 47.4, 23.5, 34.7, 35.4, 34.6, 31.7, 35.2, 35.2, 34.9, 27.1, 24.7, 24.7, 27.7, 27.0, 27.0, 24.8, 24.8, 38.0, 38.0, 38.0, 38.0, 33.3, 25.2, 31.7, 29.8, 31.7, 35.4, 34.6, 31.7, 29.3, 25.5, 37.5, 35.2, 35.2, 25.0, 25.0, 34.9, 34.7, 24.7, 24.7, 24.7, 27.0, 24.8, 24.8, 38.0, 38.0, 32.3, 33.3, 33.3, 26.0, 31.7, 31.7, 29.8, 28.8, 26.5, 23.5, 23.5, 35.4, 31.7, 31.7, 31.7, 27.0, 27.2, 35.2, 25.0, 45.9, 31.2, 34.9, 27.1, 34.7, 24.7, 24.7, 27.7, 24.8, 38.0, 38.0, 45.9, 26.1, 25.2, 31.7, 41.0, 31.7, 25.9, 26.5, 34.1, 23.5, 27.0, 25.2, 27.2, 25.0, 25.0, 31.2, 34.9, 24.7, 24.7, 24.7, 28.8, 28.5, 24.8, 24.8, 38.0, 38.0, 45.9, 45.9, 25.2, 29.8, 29.8, 29.8, 25.9, 26.5, 26.5, 34.1, 34.1, 43.3, 47.3, 23.5, 23.5, 35.4, 35.4, 35.4, 35.4, 25.5, 39.0, 35.2, 35.2, 31.2, 27.0, 24.7, 24.7, 24.7, 24.7, 28.8, 27.0, 24.8, 38.0, 38.0, 31.7, 31.7, 41.0, 41.0, 29.8, 29.8, 29.8, 29.8, 31.7, 47.3, 31.7, 31.7, 25.5, 31.4, 39.0, 35.2, 25.0, 25.0, 29.8, 31.2, 34.9, 27.0, 27.0, 34.7, 24.7, 25.9, 25.9, 28.8, 28.8, 27.0, 36.9, 28.5, 28.5, 28.5, 28.5, 24.8, 24.8, 24.8, 38.0, 38.0, 38.0, 36.9, 38.0, 25.2, 25.2, 31.7, 41.0, 29.8, 29.8, 31.7, 26.5, 35.4, 35.4, 31.7, 31.7, 31.7, 31.7, 35.5, 25.5, 35.2, 24.7, 24.7, 24.7, 25.9, 24.8, 38.0, 38.0, 38.0, 38.0, 31.7, 31.7, 31.7, 31.7, 31.7, 31.7, 31.7, 25.9, 24.8, 24.8, 38.0, 38.0, 45.9, 45.9, 26.1, 29.8, 25.9, 26.5, 35.4, 31.7, 31.7, 31.7, 25.5, 25.5, 27.0, 25.0, 34.9, 34.9, 27.0, 24.7, 28.8, 28.8, 38.0, 38.0, 38.0, 45.9, 32.3, 34.1, 31.7, 31.7, 31.7, 44.2, 27.0, 27.0, 24.8, 24.8, 38.0, 38.0, 26.0, 26.0, 29.8, 25.9, 25.9, 31.6, 31.7, 31.7, 27.2, 35.2, 27.0, 25.9, 27.0, 27.0, 24.8, 24.8, 38.0, 38.0, 25.2, 31.7, 31.7, 31.7, 26.5, 48.1, 23.8, 31.7, 31.7, 31.7, 31.7, 31.7, 27.0, 25.5, 27.0, 25.0, 34.9, 34.9, 34.9, 27.0, 34.7, 24.7, 27.0, 24.8, 38.0, 36.9, 38.0, 38.0, 38.0, 33.3, 25.2, 26.0, 41.0, 31.7, 29.8, 34.1, 26.5, 35.4, 31.7, 31.7, 31.7, 31.7]\n"
     ]
    }
   ],
   "source": [
    "print('Jumlah data Outlier pada kolom Distance', len(find_outlier(df['Distance'])))\n",
    "print('\\nList data outlier pada kolom Distance:\\n', find_outlier(df['Distance']))"
   ]
  },
  {
   "cell_type": "code",
   "execution_count": 148,
   "metadata": {},
   "outputs": [
    {
     "data": {
      "image/png": "[encoded data removed]",
      "text/plain": [
       "<Figure size 720x360 with 1 Axes>"
      ]
     },
     "metadata": {
      "needs_background": "light"
     },
     "output_type": "display_data"
    },
    {
     "name": "stdout",
     "output_type": "stream",
     "text": [
      "Data distance di perumahan melbourne memiliki nilai yang hampir seragam, banyak perumahan di melbourne yang denkat dengan pusat bisnis\n"
     ]
    },
    {
     "data": {
      "text/plain": [
       "<Figure size 432x288 with 0 Axes>"
      ]
     },
     "metadata": {},
     "output_type": "display_data"
    }
   ],
   "source": [
    "plt.figure(figsize = (10,5))\n",
    "plt.boxplot(df['Distance'], 0, 'gD', 0)\n",
    "plt.show()\n",
    "\n",
    "plt.savefig('distance_boxplot.png')\n",
    "\n",
    "print('Data distance di perumahan melbourne memiliki nilai yang hampir seragam, banyak perumahan di melbourne yang denkat dengan pusat bisnis')"
   ]
  },
  {
   "cell_type": "markdown",
   "metadata": {},
   "source": [
    "## 3. Tampilkan distribusi (sebaran data) dalam bentuk plot yang tepat, untuk feature/column ``Landsize`` & ``YearBuilt``. Jelaskan insight apa yang Anda dapatkan di setiap plot tersebut!"
   ]
  },
  {
   "cell_type": "markdown",
   "metadata": {},
   "source": [
    "### Kolom ``Landsize``"
   ]
  },
  {
   "cell_type": "code",
   "execution_count": 149,
   "metadata": {},
   "outputs": [
    {
     "data": {
      "image/png": "[encoded data removed]",
      "text/plain": [
       "<Figure size 864x360 with 1 Axes>"
      ]
     },
     "metadata": {
      "needs_background": "light"
     },
     "output_type": "display_data"
    },
    {
     "name": "stdout",
     "output_type": "stream",
     "text": [
      "\n",
      "Sebaran data landsize perumahan di melbourne banyak yang memiliki nilai di bawah 1000, kebanyakan landsize perumahannya tidak terlalu besar\n"
     ]
    },
    {
     "data": {
      "text/plain": [
       "<Figure size 432x288 with 0 Axes>"
      ]
     },
     "metadata": {},
     "output_type": "display_data"
    }
   ],
   "source": [
    "plt.figure(figsize=(12,5))\n",
    "\n",
    "bins = [100,500,1000,1500,2000,2400,3000,3500,4000,4500,10000]\n",
    "# bins = [500, 1000, 2000, 3000, 4000, 5000, 10000, 20000, 30000, 40000]\n",
    "\n",
    "plt.hist(df['Landsize'], bins=bins, edgecolor='k', color='blue')\n",
    "plt.title('Histogram Landsize Pada Perumahan di Melbourne', size=10)\n",
    "plt.xlabel('Landsize', size=8)\n",
    "plt.ylabel('Frekuensi', size=8)\n",
    "plt.legend(['Landsize'], loc=0)\n",
    "\n",
    "plt.show()\n",
    "\n",
    "plt.savefig('landsize_histogram.png')\n",
    "\n",
    "print('\\nSebaran data landsize perumahan di melbourne banyak yang memiliki nilai di bawah 1000, kebanyakan landsize perumahannya tidak terlalu besar')"
   ]
  },
  {
   "cell_type": "markdown",
   "metadata": {},
   "source": [
    "### Kolom ``YearBuilt``"
   ]
  },
  {
   "cell_type": "code",
   "execution_count": 150,
   "metadata": {},
   "outputs": [
    {
     "data": {
      "image/png": "[encoded data removed]",
      "text/plain": [
       "<Figure size 864x360 with 1 Axes>"
      ]
     },
     "metadata": {
      "needs_background": "light"
     },
     "output_type": "display_data"
    },
    {
     "name": "stdout",
     "output_type": "stream",
     "text": [
      "\n",
      "Bangunan perumahan di melbourne kebanyakan dibuat diatas tahun 1900, pada sekitar tahun 1960-1970 banyak perumahan yang dibuat.\n"
     ]
    },
    {
     "data": {
      "text/plain": [
       "<Figure size 432x288 with 0 Axes>"
      ]
     },
     "metadata": {},
     "output_type": "display_data"
    }
   ],
   "source": [
    "plt.figure(figsize=(12,5))\n",
    "\n",
    "bins = [1500,1900,1920,1940,1960,1980,2000,2010,2020]\n",
    "# bins = [500, 1000, 2000, 3000, 4000, 5000, 10000, 20000, 30000, 40000]\n",
    "\n",
    "plt.hist(df['YearBuilt'], bins=bins, edgecolor='k', color='blue')\n",
    "plt.title('Histogram YearBuilt Pada Perumahan di Melbourne', size=10)\n",
    "plt.xlabel('YearBuilt', size=8)\n",
    "plt.ylabel('Frekuensi', size=8)\n",
    "plt.legend(['YearBuilt'], loc=0)\n",
    "\n",
    "plt.show()\n",
    "\n",
    "plt.savefig('YearBuilt_hist.png')\n",
    "\n",
    "print('\\nBangunan perumahan di melbourne kebanyakan dibuat diatas tahun 1900, pada sekitar tahun 1960-1970 banyak perumahan yang dibuat.')"
   ]
  },
  {
   "cell_type": "markdown",
   "metadata": {},
   "source": [
    "## 4. Tampilkan perkembangan rata-rata harga (price) rumah berdasarkan tahun pembangunan rumah (Year) menggunakan plot yang tepat! Jelaskan (insight) perkembangan rata-rata harga rumah dari plot yang Anda buat"
   ]
  },
  {
   "cell_type": "code",
   "execution_count": 65,
   "metadata": {},
   "outputs": [
    {
     "data": {
      "text/html": [
       "<div>\n",
       "<style scoped>\n",
       "    .dataframe tbody tr th:only-of-type {\n",
       "        vertical-align: middle;\n",
       "    }\n",
       "\n",
       "    .dataframe tbody tr th {\n",
       "        vertical-align: top;\n",
       "    }\n",
       "\n",
       "    .dataframe thead th {\n",
       "        text-align: right;\n",
       "    }\n",
       "</style>\n",
       "<table border=\"1\" class=\"dataframe\">\n",
       "  <thead>\n",
       "    <tr style=\"text-align: right;\">\n",
       "      <th></th>\n",
       "      <th>Rooms</th>\n",
       "      <th>Price</th>\n",
       "      <th>Distance</th>\n",
       "      <th>Postcode</th>\n",
       "      <th>Bedroom2</th>\n",
       "      <th>Bathroom</th>\n",
       "      <th>Car</th>\n",
       "      <th>Landsize</th>\n",
       "      <th>BuildingArea</th>\n",
       "      <th>Lattitude</th>\n",
       "      <th>Longtitude</th>\n",
       "      <th>Propertycount</th>\n",
       "    </tr>\n",
       "    <tr>\n",
       "      <th>YearBuilt</th>\n",
       "      <th></th>\n",
       "      <th></th>\n",
       "      <th></th>\n",
       "      <th></th>\n",
       "      <th></th>\n",
       "      <th></th>\n",
       "      <th></th>\n",
       "      <th></th>\n",
       "      <th></th>\n",
       "      <th></th>\n",
       "      <th></th>\n",
       "      <th></th>\n",
       "    </tr>\n",
       "  </thead>\n",
       "  <tbody>\n",
       "    <tr>\n",
       "      <th>1196.0</th>\n",
       "      <td>3.000000</td>\n",
       "      <td>1.200000e+06</td>\n",
       "      <td>14.200000</td>\n",
       "      <td>3149.000000</td>\n",
       "      <td>3.000000</td>\n",
       "      <td>1.000000</td>\n",
       "      <td>4.000000</td>\n",
       "      <td>807.000000</td>\n",
       "      <td>117.000000</td>\n",
       "      <td>-37.867880</td>\n",
       "      <td>145.121210</td>\n",
       "      <td>13366.000000</td>\n",
       "    </tr>\n",
       "    <tr>\n",
       "      <th>1830.0</th>\n",
       "      <td>2.000000</td>\n",
       "      <td>8.550000e+05</td>\n",
       "      <td>1.600000</td>\n",
       "      <td>3066.000000</td>\n",
       "      <td>2.000000</td>\n",
       "      <td>1.000000</td>\n",
       "      <td>1.000000</td>\n",
       "      <td>2886.000000</td>\n",
       "      <td>122.000000</td>\n",
       "      <td>-37.804200</td>\n",
       "      <td>144.984500</td>\n",
       "      <td>4553.000000</td>\n",
       "    </tr>\n",
       "    <tr>\n",
       "      <th>1850.0</th>\n",
       "      <td>2.500000</td>\n",
       "      <td>1.179500e+06</td>\n",
       "      <td>3.700000</td>\n",
       "      <td>3137.250000</td>\n",
       "      <td>2.500000</td>\n",
       "      <td>1.750000</td>\n",
       "      <td>1.250000</td>\n",
       "      <td>36.750000</td>\n",
       "      <td>82.666667</td>\n",
       "      <td>-37.831400</td>\n",
       "      <td>144.986100</td>\n",
       "      <td>10432.750000</td>\n",
       "    </tr>\n",
       "    <tr>\n",
       "      <th>1854.0</th>\n",
       "      <td>4.000000</td>\n",
       "      <td>3.310000e+06</td>\n",
       "      <td>1.600000</td>\n",
       "      <td>3065.000000</td>\n",
       "      <td>4.000000</td>\n",
       "      <td>4.000000</td>\n",
       "      <td>2.000000</td>\n",
       "      <td>337.000000</td>\n",
       "      <td>291.000000</td>\n",
       "      <td>-37.805200</td>\n",
       "      <td>144.973900</td>\n",
       "      <td>5825.000000</td>\n",
       "    </tr>\n",
       "    <tr>\n",
       "      <th>1856.0</th>\n",
       "      <td>4.000000</td>\n",
       "      <td>2.260000e+06</td>\n",
       "      <td>2.100000</td>\n",
       "      <td>3205.000000</td>\n",
       "      <td>5.000000</td>\n",
       "      <td>3.000000</td>\n",
       "      <td>0.000000</td>\n",
       "      <td>190.000000</td>\n",
       "      <td>232.000000</td>\n",
       "      <td>-37.837700</td>\n",
       "      <td>144.965300</td>\n",
       "      <td>5943.000000</td>\n",
       "    </tr>\n",
       "    <tr>\n",
       "      <th>...</th>\n",
       "      <td>...</td>\n",
       "      <td>...</td>\n",
       "      <td>...</td>\n",
       "      <td>...</td>\n",
       "      <td>...</td>\n",
       "      <td>...</td>\n",
       "      <td>...</td>\n",
       "      <td>...</td>\n",
       "      <td>...</td>\n",
       "      <td>...</td>\n",
       "      <td>...</td>\n",
       "      <td>...</td>\n",
       "    </tr>\n",
       "    <tr>\n",
       "      <th>2014.0</th>\n",
       "      <td>2.900000</td>\n",
       "      <td>9.219150e+05</td>\n",
       "      <td>10.166000</td>\n",
       "      <td>3089.120000</td>\n",
       "      <td>2.890000</td>\n",
       "      <td>1.950000</td>\n",
       "      <td>1.580000</td>\n",
       "      <td>273.260000</td>\n",
       "      <td>144.662921</td>\n",
       "      <td>-37.796341</td>\n",
       "      <td>144.974806</td>\n",
       "      <td>8713.220000</td>\n",
       "    </tr>\n",
       "    <tr>\n",
       "      <th>2015.0</th>\n",
       "      <td>3.276923</td>\n",
       "      <td>1.231485e+06</td>\n",
       "      <td>10.669231</td>\n",
       "      <td>3108.615385</td>\n",
       "      <td>3.200000</td>\n",
       "      <td>2.261538</td>\n",
       "      <td>1.646154</td>\n",
       "      <td>446.200000</td>\n",
       "      <td>195.558333</td>\n",
       "      <td>-37.796393</td>\n",
       "      <td>144.986468</td>\n",
       "      <td>6800.446154</td>\n",
       "    </tr>\n",
       "    <tr>\n",
       "      <th>2016.0</th>\n",
       "      <td>3.500000</td>\n",
       "      <td>1.523655e+06</td>\n",
       "      <td>9.793103</td>\n",
       "      <td>3096.189655</td>\n",
       "      <td>3.534483</td>\n",
       "      <td>2.534483</td>\n",
       "      <td>1.706897</td>\n",
       "      <td>425.517241</td>\n",
       "      <td>226.701754</td>\n",
       "      <td>-37.803666</td>\n",
       "      <td>144.997946</td>\n",
       "      <td>6746.706897</td>\n",
       "    </tr>\n",
       "    <tr>\n",
       "      <th>2017.0</th>\n",
       "      <td>3.444444</td>\n",
       "      <td>1.037972e+06</td>\n",
       "      <td>9.916667</td>\n",
       "      <td>3058.333333</td>\n",
       "      <td>3.555556</td>\n",
       "      <td>2.444444</td>\n",
       "      <td>1.666667</td>\n",
       "      <td>510.777778</td>\n",
       "      <td>203.687500</td>\n",
       "      <td>-37.784944</td>\n",
       "      <td>144.939537</td>\n",
       "      <td>6145.277778</td>\n",
       "    </tr>\n",
       "    <tr>\n",
       "      <th>2018.0</th>\n",
       "      <td>2.000000</td>\n",
       "      <td>1.310000e+06</td>\n",
       "      <td>10.700000</td>\n",
       "      <td>3187.000000</td>\n",
       "      <td>4.000000</td>\n",
       "      <td>3.000000</td>\n",
       "      <td>2.000000</td>\n",
       "      <td>302.000000</td>\n",
       "      <td>250.000000</td>\n",
       "      <td>-37.918200</td>\n",
       "      <td>145.023100</td>\n",
       "      <td>6938.000000</td>\n",
       "    </tr>\n",
       "  </tbody>\n",
       "</table>\n",
       "<p>144 rows × 12 columns</p>\n",
       "</div>"
      ],
      "text/plain": [
       "              Rooms         Price   Distance     Postcode  Bedroom2  Bathroom  \\\n",
       "YearBuilt                                                                       \n",
       "1196.0     3.000000  1.200000e+06  14.200000  3149.000000  3.000000  1.000000   \n",
       "1830.0     2.000000  8.550000e+05   1.600000  3066.000000  2.000000  1.000000   \n",
       "1850.0     2.500000  1.179500e+06   3.700000  3137.250000  2.500000  1.750000   \n",
       "1854.0     4.000000  3.310000e+06   1.600000  3065.000000  4.000000  4.000000   \n",
       "1856.0     4.000000  2.260000e+06   2.100000  3205.000000  5.000000  3.000000   \n",
       "...             ...           ...        ...          ...       ...       ...   \n",
       "2014.0     2.900000  9.219150e+05  10.166000  3089.120000  2.890000  1.950000   \n",
       "2015.0     3.276923  1.231485e+06  10.669231  3108.615385  3.200000  2.261538   \n",
       "2016.0     3.500000  1.523655e+06   9.793103  3096.189655  3.534483  2.534483   \n",
       "2017.0     3.444444  1.037972e+06   9.916667  3058.333333  3.555556  2.444444   \n",
       "2018.0     2.000000  1.310000e+06  10.700000  3187.000000  4.000000  3.000000   \n",
       "\n",
       "                Car     Landsize  BuildingArea  Lattitude  Longtitude  \\\n",
       "YearBuilt                                                               \n",
       "1196.0     4.000000   807.000000    117.000000 -37.867880  145.121210   \n",
       "1830.0     1.000000  2886.000000    122.000000 -37.804200  144.984500   \n",
       "1850.0     1.250000    36.750000     82.666667 -37.831400  144.986100   \n",
       "1854.0     2.000000   337.000000    291.000000 -37.805200  144.973900   \n",
       "1856.0     0.000000   190.000000    232.000000 -37.837700  144.965300   \n",
       "...             ...          ...           ...        ...         ...   \n",
       "2014.0     1.580000   273.260000    144.662921 -37.796341  144.974806   \n",
       "2015.0     1.646154   446.200000    195.558333 -37.796393  144.986468   \n",
       "2016.0     1.706897   425.517241    226.701754 -37.803666  144.997946   \n",
       "2017.0     1.666667   510.777778    203.687500 -37.784944  144.939537   \n",
       "2018.0     2.000000   302.000000    250.000000 -37.918200  145.023100   \n",
       "\n",
       "           Propertycount  \n",
       "YearBuilt                 \n",
       "1196.0      13366.000000  \n",
       "1830.0       4553.000000  \n",
       "1850.0      10432.750000  \n",
       "1854.0       5825.000000  \n",
       "1856.0       5943.000000  \n",
       "...                  ...  \n",
       "2014.0       8713.220000  \n",
       "2015.0       6800.446154  \n",
       "2016.0       6746.706897  \n",
       "2017.0       6145.277778  \n",
       "2018.0       6938.000000  \n",
       "\n",
       "[144 rows x 12 columns]"
      ]
     },
     "execution_count": 65,
     "metadata": {},
     "output_type": "execute_result"
    }
   ],
   "source": [
    "df.groupby('YearBuilt').mean()"
   ]
  },
  {
   "cell_type": "code",
   "execution_count": 151,
   "metadata": {},
   "outputs": [
    {
     "data": {
      "image/png": "[encoded data removed]",
      "text/plain": [
       "<Figure size 864x504 with 1 Axes>"
      ]
     },
     "metadata": {
      "needs_background": "light"
     },
     "output_type": "display_data"
    },
    {
     "name": "stdout",
     "output_type": "stream",
     "text": [
      "\n",
      "Rata-rata harga rumah yang dibangun pada tahun sekitar 1900 awal memiliki nilai yang tinggi,\n",
      "namun harga tersebut berangsur turun dalam memasuki tahun 2000.\n"
     ]
    },
    {
     "data": {
      "text/plain": [
       "<Figure size 432x288 with 0 Axes>"
      ]
     },
     "metadata": {},
     "output_type": "display_data"
    }
   ],
   "source": [
    "years = [year for year, df in df.groupby('YearBuilt')]\n",
    "prices = df.groupby('YearBuilt').mean()['Price']\n",
    "\n",
    "plt.figure(figsize=(12,7))\n",
    "\n",
    "plt.plot(years, prices)\n",
    "plt.title('Perkembangan Rata-rata Harga Rumah per Tahun Pembangunan')\n",
    "plt.xlabel('Tahun Pembangunan')\n",
    "plt.ylabel('Harga')\n",
    "plt.grid()\n",
    "\n",
    "plt.show()\n",
    "\n",
    "plt.savefig('Lineplot_price.png')\n",
    "\n",
    "print('\\nRata-rata harga rumah yang dibangun pada tahun sekitar 1900 awal memiliki nilai yang tinggi,\\nnamun harga tersebut berangsur turun dalam memasuki tahun 2000.')"
   ]
  },
  {
   "cell_type": "markdown",
   "metadata": {},
   "source": [
    "## 5. Di antara Landsize, Distance, & Rooms, manakah feature/column yang memiliki nilai korelasi tertinggi pada feature/column Price? Jelaskan metode korelasi apa yang Anda gunakan, serta apa insight untuk perusahaan setelah mengetahui nilai korelasi tersebut?"
   ]
  },
  {
   "cell_type": "code",
   "execution_count": 144,
   "metadata": {},
   "outputs": [
    {
     "name": "stdout",
     "output_type": "stream",
     "text": [
      "             Price  Landsize  Distance     Rooms\n",
      "Price     1.000000  0.037507 -0.162522  0.496634\n",
      "Landsize  0.037507  1.000000  0.025004  0.025678\n",
      "Distance -0.162522  0.025004  1.000000  0.294203\n",
      "Rooms     0.496634  0.025678  0.294203  1.000000\n",
      "\n",
      "Kolom yang meiliki nilai korelasi positif dan tinggi terhadap harga yaitu kolom \"Rooms\", \n",
      "dapat dikatakan rumah yang memiliki banyak ruangan menjadi pilihan warga melbourne.\n",
      "untuk customer yang memiliki anggota keluarga yang besar perlu mempertimbangkan lagi untuk tinggal di melbourne, mengingat harganya yang berkorelasi\n"
     ]
    }
   ],
   "source": [
    "df1 = df[['Price','Landsize', 'Distance', 'Rooms']].corr()\n",
    "print(df1)\n",
    "\n",
    "print('\\nKolom yang meiliki nilai korelasi positif dan tinggi terhadap harga yaitu kolom \"Rooms\", \\ndapat dikatakan rumah yang memiliki banyak ruangan menjadi pilihan warga melbourne.\\nuntuk customer yang memiliki anggota keluarga yang besar perlu mempertimbangkan lagi untuk tinggal di melbourne, mengingat harganya yang berkorelasi')"
   ]
  },
  {
   "cell_type": "code",
   "execution_count": 152,
   "metadata": {},
   "outputs": [
    {
     "data": {
      "image/png": "[encoded data removed]",
      "text/plain": [
       "<Figure size 720x504 with 2 Axes>"
      ]
     },
     "metadata": {
      "needs_background": "light"
     },
     "output_type": "display_data"
    },
    {
     "name": "stdout",
     "output_type": "stream",
     "text": [
      "\n",
      "Dapat dilihat korelasi antara \"Rooms\" dengan \"Price\" mempunyai warna merah yang termasuk tinggi jika dibandingkan dengan korelasi kolom lain.\n"
     ]
    },
    {
     "data": {
      "text/plain": [
       "<Figure size 432x288 with 0 Axes>"
      ]
     },
     "metadata": {},
     "output_type": "display_data"
    }
   ],
   "source": [
    "f, ax = plt.subplots(figsize=(10, 7))\n",
    "sns.heatmap(df1, annot=True, linewidths=.5)\n",
    "\n",
    "plt.show()\n",
    "\n",
    "plt.savefig('Heatmap_corr.png')\n",
    "\n",
    "print('\\nDapat dilihat korelasi antara \"Rooms\" dengan \"Price\" mempunyai warna merah yang termasuk tinggi jika dibandingkan dengan korelasi kolom lain.')"
   ]
  },
  {
   "cell_type": "code",
   "execution_count": null,
   "metadata": {},
   "outputs": [],
   "source": []
  }
 ],
 "metadata": {
  "kernelspec": {
   "display_name": "Python 3.8.2 32-bit",
   "language": "python",
   "name": "python38232bit1955536e7d6745fe834988394e8b848e"
  },
  "language_info": {
   "codemirror_mode": {
    "name": "ipython",
    "version": 3
   },
   "file_extension": ".py",
   "mimetype": "text/x-python",
   "name": "python",
   "nbconvert_exporter": "python",
   "pygments_lexer": "ipython3",
   "version": "3.8.2"
  }
 },
 "nbformat": 4,
 "nbformat_minor": 4
}
